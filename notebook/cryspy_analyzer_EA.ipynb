{
 "cells": [
  {
   "cell_type": "markdown",
   "metadata": {},
   "source": [
    "# Import and setting"
   ]
  },
  {
   "cell_type": "code",
   "execution_count": null,
   "metadata": {},
   "outputs": [],
   "source": [
    "# ---------- import\n",
    "import gzip\n",
    "import pickle\n",
    "\n",
    "import matplotlib.pyplot as plt\n",
    "import numpy as np"
   ]
  },
  {
   "cell_type": "code",
   "execution_count": null,
   "metadata": {},
   "outputs": [],
   "source": [
    "# ---------- rcParams\n",
    "rcParams_dict = {\n",
    "    # ---------- figure\n",
    "    'figure.figsize': (8, 6),\n",
    "    'figure.dpi': 120,\n",
    "    'figure.facecolor': 'white',\n",
    "    # ---------- axes\n",
    "    'axes.grid': True,\n",
    "    'axes.linewidth': 1.5,\n",
    "    'axes.labelsize': 20,\n",
    "    # ---------- ticks\n",
    "    'xtick.direction': 'in',\n",
    "    'ytick.direction': 'in',\n",
    "    'xtick.major.width': 1.0,\n",
    "    'ytick.major.width': 1.0,\n",
    "    'xtick.major.size': 8.0,\n",
    "    'ytick.major.size': 8.0,\n",
    "    'xtick.labelsize': 16,\n",
    "    'ytick.labelsize': 16,\n",
    "    # ---------- lines\n",
    "    'lines.linewidth': 2.0,\n",
    "    'lines.markersize': 12,\n",
    "    # ---------- grid\n",
    "    'grid.linestyle': ':',\n",
    "    # ---------- legend\n",
    "    'legend.fontsize': 20,\n",
    "    # ---------- other fonts\n",
    "    'font.family': 'sans-serif',\n",
    "    'font.sans-serif': ['Helvetica Neue', 'Arial', 'Liberation Sans', 'DejaVu Sans', 'sans'],\n",
    "    #'mathtext.fontset': 'cm',\n",
    "    'mathtext.fontset': 'stix',\n",
    "    #'font.size': 20,\n",
    "    #'svg.fonttype': 'path',  # Embed characters as paths\n",
    "    'svg.fonttype': 'none',  # Assume fonts are installed on the machine\n",
    "    'pdf.fonttype': 42,  # embed fonts in PDF using type42 (True type)\n",
    "}\n",
    "plt.rcParams.update(rcParams_dict)"
   ]
  },
  {
   "cell_type": "markdown",
   "metadata": {},
   "source": [
    "# Data"
   ]
  },
  {
   "cell_type": "code",
   "execution_count": null,
   "metadata": {},
   "outputs": [],
   "source": [
    "def load_data(filename):\n",
    "    if filename.endswith('.gz'):\n",
    "        with gzip.open(filename, 'rb') as f:\n",
    "            return pickle.load(f)\n",
    "    else:\n",
    "        with open(filename, 'rb') as f:\n",
    "            return pickle.load(f)"
   ]
  },
  {
   "cell_type": "code",
   "execution_count": null,
   "metadata": {},
   "outputs": [],
   "source": [
    "rslt_data = load_data('./pkl_data/rslt_data.pkl')\n",
    "\n",
    "# ---------- sort by generation\n",
    "#rslt_data.head(10)\n",
    "\n",
    "# ---------- sort by Energy\n",
    "rslt_data.sort_values(by=['E_eV_atom']).head(10)"
   ]
  },
  {
   "cell_type": "code",
   "execution_count": null,
   "metadata": {},
   "outputs": [],
   "source": [
    "# ---------- Generation\n",
    "gmax = rslt_data['Gen'].max()\n",
    "print(f'Number of generation: {gmax}')\n",
    "\n",
    "# ---------- Number of structures\n",
    "ndata = len(rslt_data)\n",
    "print(f'Number of data: {ndata}')\n",
    "\n",
    "# ---------- check success and error\n",
    "nsuccess = rslt_data['E_eV_atom'].count()\n",
    "nerror = ndata - nsuccess\n",
    "print(f'Success: {nsuccess}')\n",
    "print(f'Error: {nerror}')\n",
    "\n",
    "# ---------- minimum\n",
    "Emin = rslt_data['E_eV_atom'].min()\n",
    "print(f'Emin: {Emin} eV/atom')"
   ]
  },
  {
   "cell_type": "markdown",
   "metadata": {},
   "source": [
    "# Energy vs. trial"
   ]
  },
  {
   "cell_type": "code",
   "execution_count": null,
   "metadata": {},
   "outputs": [],
   "source": [
    "dx = 1\n",
    "xmin = -dx\n",
    "xmax = ndata + dx\n",
    "ymin = -0.05\n",
    "ymax = 0.5"
   ]
  },
  {
   "cell_type": "code",
   "execution_count": null,
   "metadata": {},
   "outputs": [],
   "source": [
    "fig, ax = plt.subplots()\n",
    "\n",
    "# ---------- axis\n",
    "ax.set_xlim([xmin, xmax])\n",
    "ax.set_ylim([ymin, ymax])\n",
    "\n",
    "# ---------- hline at zero\n",
    "ax.hlines(0.0, xmin, xmax, 'k', '--')\n",
    "\n",
    "# ---------- plot\n",
    "#ax.plot(rslt_data['E_eV_atom'] - Emin, 'o', ms=15, mew=2.0, alpha=0.8)\n",
    "\n",
    "\n",
    "# ---------- color coded by generation\n",
    "tx = 0\n",
    "for g in range(1, gmax+1):    # generation starts from 1\n",
    "    gfilter = rslt_data['Gen'] == g\n",
    "    num = len(rslt_data[gfilter])\n",
    "    x = np.arange(0, num) + tx\n",
    "    ax.plot(x, rslt_data['E_eV_atom'][gfilter] - Emin, 'o', ms=12, mew=1.0,  markeredgecolor='black', alpha=1.0)\n",
    "    tx += num\n",
    "\n",
    "# ---------- title and label\n",
    "ax.set_xlabel('Structure ID')\n",
    "ax.set_ylabel('Energy (eV/atom)')"
   ]
  },
  {
   "cell_type": "code",
   "execution_count": null,
   "metadata": {},
   "outputs": [],
   "source": [
    "filename = 'Cu8Au8_EA.svg'\n",
    "#filename = 'Cu8Au8_EA.png'\n",
    "#filename = 'Cu8Au8_EA.pdf'"
   ]
  },
  {
   "cell_type": "code",
   "execution_count": null,
   "metadata": {},
   "outputs": [],
   "source": [
    "# ---------- save figure\n",
    "fig.savefig(filename, bbox_inches='tight')    # svg, png, pdf\n",
    "#fig.savefig(filename, bbox_inches='tight', dpi=300)    # high dpi png"
   ]
  },
  {
   "cell_type": "code",
   "execution_count": null,
   "metadata": {},
   "outputs": [],
   "source": []
  }
 ],
 "metadata": {
  "anaconda-cloud": {},
  "kernelspec": {
   "display_name": "base",
   "language": "python",
   "name": "python3"
  },
  "language_info": {
   "codemirror_mode": {
    "name": "ipython",
    "version": 3
   },
   "file_extension": ".py",
   "mimetype": "text/x-python",
   "name": "python",
   "nbconvert_exporter": "python",
   "pygments_lexer": "ipython3",
   "version": "3.10.9"
  },
  "toc": {
   "nav_menu": {
    "height": "84px",
    "width": "252px"
   },
   "number_sections": true,
   "sideBar": true,
   "skip_h1_title": false,
   "toc_cell": false,
   "toc_position": {},
   "toc_section_display": "block",
   "toc_window_display": true
  }
 },
 "nbformat": 4,
 "nbformat_minor": 4
}
