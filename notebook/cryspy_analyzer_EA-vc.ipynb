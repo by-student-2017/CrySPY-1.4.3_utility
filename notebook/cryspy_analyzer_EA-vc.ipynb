{
 "cells": [
  {
   "cell_type": "markdown",
   "metadata": {},
   "source": [
    "# Impoert and setting"
   ]
  },
  {
   "cell_type": "code",
   "execution_count": null,
   "metadata": {},
   "outputs": [],
   "source": [
    "import gzip\n",
    "import pickle\n",
    "\n",
    "import matplotlib.pyplot as plt\n",
    "from pymatgen.analysis.phase_diagram import PDPlotter"
   ]
  },
  {
   "cell_type": "code",
   "execution_count": null,
   "metadata": {},
   "outputs": [],
   "source": [
    "def set_params():\n",
    "    # ---------- rcParams\n",
    "    rcParams_dict = {\n",
    "        # ---------- figure\n",
    "        'figure.figsize': (8, 6),\n",
    "        'figure.dpi': 120,\n",
    "        'figure.facecolor': 'white',\n",
    "        # ---------- axes\n",
    "        'axes.grid': True,\n",
    "        'axes.linewidth': 1.5,\n",
    "        'axes.labelsize': 20,\n",
    "        # ---------- ticks\n",
    "        'xtick.direction': 'in',\n",
    "        'ytick.direction': 'in',\n",
    "        'xtick.major.width': 1.0,\n",
    "        'ytick.major.width': 1.0,\n",
    "        'xtick.major.size': 8.0,\n",
    "        'ytick.major.size': 8.0,\n",
    "        'xtick.labelsize': 16,\n",
    "        'ytick.labelsize': 16,\n",
    "        # ---------- lines\n",
    "        'lines.linewidth': 2.0,\n",
    "        'lines.markersize': 12,\n",
    "        # ---------- grid\n",
    "        'grid.linestyle': ':',\n",
    "        # ---------- legend\n",
    "        'legend.fontsize': 20,\n",
    "        # ---------- other fonts\n",
    "        'font.size': 20,\n",
    "        'font.family': 'sans-serif',\n",
    "        'font.sans-serif': ['Helvetica Neue', 'Arial', 'Liberation Sans', 'DejaVu Sans', 'sans'],\n",
    "        'mathtext.fontset': 'cm',\n",
    "        #'mathtext.fontset': 'stix',\n",
    "        'svg.fonttype': 'path',  # Embed characters as paths\n",
    "        #'svg.fonttype': 'none',  # Assume fonts are installed on the machine\n",
    "        'pdf.fonttype': 42,  # embed fonts in PDF using type42 (True type)\n",
    "    }\n",
    "    plt.rcParams.update(rcParams_dict)\n",
    "\n",
    "set_params()"
   ]
  },
  {
   "cell_type": "markdown",
   "metadata": {},
   "source": [
    "# Load data"
   ]
  },
  {
   "cell_type": "code",
   "execution_count": null,
   "metadata": {},
   "outputs": [],
   "source": [
    "def load_data(filename):\n",
    "    if filename.endswith('.gz'):\n",
    "        with gzip.open(filename, 'rb') as f:\n",
    "            return pickle.load(f)\n",
    "    else:\n",
    "        with open(filename, 'rb') as f:\n",
    "            return pickle.load(f)"
   ]
  },
  {
   "cell_type": "code",
   "execution_count": null,
   "metadata": {},
   "outputs": [],
   "source": [
    "pd_data = load_data('./pkl_data/pd_data.pkl')\n",
    "hdist_data = load_data('./pkl_data/hdist_data.pkl')    # for plot with matplotlib\n",
    "rslt_data = load_data('./pkl_data/rslt_data.pkl')      # for plot with matplotlib"
   ]
  },
  {
   "cell_type": "markdown",
   "metadata": {},
   "source": [
    "# Set generation"
   ]
  },
  {
   "cell_type": "code",
   "execution_count": null,
   "metadata": {},
   "outputs": [],
   "source": [
    "# ---------- current generation\n",
    "cgen = rslt_data['Gen'].max()\n",
    "#gen = 5    # you can change the generation number manually\n",
    "c_rslt = rslt_data[rslt_data['Gen'] == cgen]\n",
    "cgen_ids = c_rslt.index.values    # current IDs [array]\n",
    "cgen_ids"
   ]
  },
  {
   "cell_type": "code",
   "execution_count": null,
   "metadata": {},
   "outputs": [],
   "source": [
    "pd = pd_data[cgen]\n",
    "hdist = hdist_data[cgen]    # for plot with matplotlib"
   ]
  },
  {
   "cell_type": "markdown",
   "metadata": {},
   "source": [
    "## Interactive plot using Plotly\n",
    "show_unstable  \n",
    "- The maximum hull distance value to display on the plot\n",
    "\n",
    "ternary_style  \n",
    "- Binary system: ternary_style = '2d'\n",
    "- Ternary system: ternary_style = '2d', '3d'\n",
    "- Quaternary system: ternary_style = '3d'"
   ]
  },
  {
   "cell_type": "code",
   "execution_count": null,
   "metadata": {},
   "outputs": [],
   "source": [
    "plotter = PDPlotter(pd, show_unstable=0.2, ternary_style='2d')\n",
    "plotter.show()"
   ]
  },
  {
   "cell_type": "markdown",
   "metadata": {},
   "source": [
    "## Binary system, matplotlib\n",
    "This is only for binary systems.\n",
    "\n",
    "- show_max: The maximum formation energy to display on the plot\n",
    "- label_stable: Whether to display the labels (compositions) of stable structures\n",
    "- vmax: The maximum hull distance in the color bar\n",
    "- bottom_margin: bottom margin of y-axis"
   ]
  },
  {
   "cell_type": "code",
   "execution_count": null,
   "metadata": {},
   "outputs": [],
   "source": [
    "def draw_convex_hull_binary(\n",
    "        pd,\n",
    "        hdist,\n",
    "        cgen_ids,\n",
    "        show_max=0.2,\n",
    "        label_stable=True,\n",
    "        vmax=0.2,\n",
    "        bottom_margin=0.02,\n",
    "    ):\n",
    "    '''\n",
    "    # ---------- args\n",
    "    pd (PhaseDiagram): phase diagram object\n",
    "    hdist (dict): hull distance of all structures, {ID: distance, ...}\n",
    "    cgen_ids (array): ID array of current generation structures\n",
    "    show_max (float): max value of y-axis (binary) or hull distance (ternary)\n",
    "    label_stable (bool): whether to show stable compositions\n",
    "    vmax (float): max value of colorbar for hull distance\n",
    "    bottom_margin (float): bottom margin of y-axis\n",
    "    '''\n",
    "\n",
    "    # ---------- setting\n",
    "    set_params()\n",
    "\n",
    "    # ---------- fig\n",
    "    fig, ax = plt.subplots(1, 1)\n",
    "    plotter_mpl = PDPlotter(pd, show_unstable=0.0, backend='matplotlib', linewidth=1.5, markerfacecolor='darkslateblue', markersize=10)\n",
    "    plotter_mpl.get_plot(label_stable=label_stable, label_unstable=False, ax=ax)\n",
    "    ax.set_axisbelow(True)\n",
    "\n",
    "    # ---------- hline\n",
    "    ax.axhline(y=0, xmin=0, xmax=1, color='black', linestyle='--', zorder=1)\n",
    "\n",
    "    # ---------- label for only binary system\n",
    "    # default fontweight is 'bold' in PDPlotter, so set 'normal'\n",
    "    ax.set_xlabel('Composition', fontsize=20, fontweight='normal')\n",
    "    ax.set_ylabel('Formation energy (eV/atom)', fontsize=20, fontweight='normal')\n",
    "\n",
    "    # ---------- texts\n",
    "    for text in ax.texts:\n",
    "        text.set_fontsize(14)\n",
    "        text.set_fontweight('normal')    # bold --> normal\n",
    "\n",
    "    # ---------- scatter: unstable entries\n",
    "    scat_x = []\n",
    "    scat_y= []\n",
    "    scat_c = []\n",
    "    lines, stable_entries, unstable_entries = plotter_mpl.pd_plot_data\n",
    "    for entry, coord in unstable_entries.items():\n",
    "        if entry.entry_id is not None:\n",
    "            scat_x.append(coord[0])\n",
    "            scat_y.append(coord[1])\n",
    "            scat_c.append(hdist[entry.entry_id])\n",
    "    mappable = ax.scatter(scat_x, scat_y, s=50, c=scat_c, vmin=0, vmax=vmax, cmap='Oranges_r', marker='D', edgecolors='black', zorder=2)\n",
    "    cbar = fig.colorbar(mappable, ax=ax, shrink=0.8, pad=0.05)\n",
    "    cbar.ax.tick_params(labelsize=14)\n",
    "    cbar.set_label('Hull distance (eV/atom)', size=20, rotation=270, labelpad=30)\n",
    "\n",
    "    # ---------- mark the current generation\n",
    "    stable_compos = {entry.entry_id: compos for compos, entry in stable_entries.items()}\n",
    "    unstable_compos = {entry.entry_id: compos for entry, compos in unstable_entries.items()}\n",
    "    for cid in cgen_ids:\n",
    "        if cid in stable_compos:\n",
    "            mx, my = stable_compos[cid][0], stable_compos[cid][1]\n",
    "            ax.plot(mx, my, '+', markeredgecolor='white')\n",
    "        elif cid in unstable_compos:\n",
    "            mx, my = unstable_compos[cid][0], unstable_compos[cid][1]\n",
    "            ax.plot(mx, my, '+', markersize=10, markeredgewidth=0.5,  markeredgecolor='navy')\n",
    "\n",
    "    # ---------- ylim\n",
    "    stable_y = list(stable_entries.keys())\n",
    "    ymin = min(stable_y, key=lambda x: x[1])[1] - bottom_margin\n",
    "    ax.set_ylim(ymin, show_max)\n",
    "\n",
    "    # ---------- return\n",
    "    plt.close(fig)    # not to show the figure in Jupyter notebook when using interactive mode\n",
    "    return fig, ax"
   ]
  },
  {
   "cell_type": "code",
   "execution_count": null,
   "metadata": {},
   "outputs": [],
   "source": [
    "show_max = 0.2\n",
    "label_stable = True\n",
    "vmax = 0.2\n",
    "bottom_margin = 0.02"
   ]
  },
  {
   "cell_type": "code",
   "execution_count": null,
   "metadata": {},
   "outputs": [],
   "source": [
    "fig, ax = draw_convex_hull_binary(\n",
    "    pd,\n",
    "    hdist,\n",
    "    cgen_ids,\n",
    "    show_max=show_max,\n",
    "    label_stable=label_stable,\n",
    "    vmax=vmax,\n",
    "    bottom_margin=bottom_margin\n",
    ")\n",
    "\n",
    "fig    # to plot in Jupyter"
   ]
  },
  {
   "cell_type": "code",
   "execution_count": null,
   "metadata": {},
   "outputs": [],
   "source": [
    "# ---------- save figure\n",
    "fig.savefig(f'conv_hull_{cgen}.svg', bbox_inches='tight')    # SVG\n",
    "#fig.savefig(f'conv_hull_{cgen}.png', bbox_inches='tight')    # PNG\n",
    "#fig.savefig(f'conv_hull_{cgen}.png', bbox_inches='tight', dpi=300)    # high dpi PNG\n",
    "#fig.savefig(f'conv_hull_{cgen}.pdf', bbox_inches='tight')    # PDF"
   ]
  },
  {
   "cell_type": "markdown",
   "metadata": {},
   "source": [
    "## Ternary system, matplotlib\n",
    "This is only for ternary systems.\n",
    "\n",
    "- show_max: The maximum hull distance value to display on the plot\n",
    "- label_stable: Whether to display the labels (compositions) of stable structures\n",
    "- vmax: The maximum value of the color bar\n"
   ]
  },
  {
   "cell_type": "code",
   "execution_count": null,
   "metadata": {},
   "outputs": [],
   "source": [
    "def draw_convex_hull_ternary(\n",
    "        pd,\n",
    "        hdist,\n",
    "        cgen_ids,\n",
    "        show_max=0.2,\n",
    "        label_stable=True,\n",
    "        vmax=0.2,\n",
    "    ):\n",
    "    '''\n",
    "    # ---------- args\n",
    "    pd (PhaseDiagram): phase diagram object\n",
    "    hdist (dict): hull distance of all structures, {ID: distance, ...}\n",
    "    cgen_ids (array): ID array of current generation structures\n",
    "    show_max (float): max value of y-axis (binary) or hull distance (ternary)\n",
    "    label_stable (bool): whether to show stable compositions\n",
    "    vmax (float): max value of colorbar for hull distance\n",
    "    '''\n",
    "\n",
    "    # ---------- setting\n",
    "    set_params()\n",
    "\n",
    "    # ---------- fig\n",
    "    fig, ax = plt.subplots(1, 1)\n",
    "    plotter_mpl = PDPlotter(pd, show_unstable=0.0, backend='matplotlib', linewidth=1.5, markerfacecolor='darkslateblue', markersize=10)\n",
    "    plotter_mpl.get_plot(label_stable=label_stable, label_unstable=False, ax=ax)\n",
    "\n",
    "    # ---------- texts\n",
    "    for text in ax.texts:\n",
    "        text.set_fontsize(14)\n",
    "        text.set_fontweight('normal')    # bold --> normal\n",
    "\n",
    "    # ---------- scatter: unstable entries\n",
    "    scat_x = []\n",
    "    scat_y= []\n",
    "    scat_c = []\n",
    "    lines, stable_entries, unstable_entries = plotter_mpl.pd_plot_data\n",
    "    for entry, coord in unstable_entries.items():\n",
    "        if entry.entry_id is not None:\n",
    "            if hdist[entry.entry_id] <= show_max:\n",
    "                scat_x.append(coord[0])\n",
    "                scat_y.append(coord[1])\n",
    "                scat_c.append(hdist[entry.entry_id])\n",
    "    mappable = ax.scatter(scat_x, scat_y, s=30, c=scat_c, vmin=0, vmax=vmax, cmap='Oranges_r', marker='D', edgecolors='black', zorder=3)\n",
    "    cbar = fig.colorbar(mappable, ax=ax, shrink=0.6, pad=-0.1)\n",
    "    cbar.ax.tick_params(labelsize=14)\n",
    "    cbar.set_label('Hull distance (eV/atom)', size=20, rotation=270, labelpad=30)\n",
    "\n",
    "    # ---------- mark the current generation\n",
    "    stable_compos = {entry.entry_id: compos for compos, entry in stable_entries.items()}\n",
    "    unstable_compos = {entry.entry_id: compos for entry, compos in unstable_entries.items()}\n",
    "    for cid in cgen_ids:\n",
    "        if cid in hdist and hdist[cid] <= show_max:\n",
    "            if cid in stable_compos:\n",
    "                mx, my = stable_compos[cid][0], stable_compos[cid][1]\n",
    "                ax.plot(mx, my, '+', markeredgecolor='white', zorder=2)\n",
    "            elif cid in unstable_compos:\n",
    "                mx, my = unstable_compos[cid][0], unstable_compos[cid][1]\n",
    "                ax.plot(mx, my, '+', markersize=6, markeredgewidth=0.5,  markeredgecolor='navy', zorder=4)\n",
    "\n",
    "    # ---------- return\n",
    "    plt.close(fig)    # not to show the figure in Jupyter notebook when using interactive mode\n",
    "    return fig, ax"
   ]
  },
  {
   "cell_type": "code",
   "execution_count": null,
   "metadata": {},
   "outputs": [],
   "source": [
    "show_max = 0.2\n",
    "label_stable = True\n",
    "vmax = 0.2"
   ]
  },
  {
   "cell_type": "code",
   "execution_count": null,
   "metadata": {},
   "outputs": [],
   "source": [
    "fig, ax = draw_convex_hull_ternary(\n",
    "    pd,\n",
    "    hdist,\n",
    "    cgen_ids,\n",
    "    show_max=show_max,\n",
    "    label_stable=label_stable,\n",
    "    vmax=vmax\n",
    ")\n",
    "\n",
    "fig    # to plot in Jupyter"
   ]
  },
  {
   "cell_type": "code",
   "execution_count": null,
   "metadata": {},
   "outputs": [],
   "source": [
    "# ---------- save figure\n",
    "fig.savefig(f'conv_hull_{cgen}.svg', bbox_inches='tight')    # SVG\n",
    "#fig.savefig(f'conv_hull_{cgen}.png', bbox_inches='tight')    # PNG\n",
    "#fig.savefig(f'conv_hull_{cgen}.png', bbox_inches='tight', dpi=300)    # high dpi PNG\n",
    "#fig.savefig(f'conv_hull_{cgen}.pdf', bbox_inches='tight')    # PDF"
   ]
  },
  {
   "cell_type": "code",
   "execution_count": null,
   "metadata": {},
   "outputs": [],
   "source": []
  }
 ],
 "metadata": {
  "kernelspec": {
   "display_name": "base",
   "language": "python",
   "name": "python3"
  },
  "language_info": {
   "codemirror_mode": {
    "name": "ipython",
    "version": 3
   },
   "file_extension": ".py",
   "mimetype": "text/x-python",
   "name": "python",
   "nbconvert_exporter": "python",
   "pygments_lexer": "ipython3",
   "version": "3.10.12"
  }
 },
 "nbformat": 4,
 "nbformat_minor": 2
}
