{
 "cells": [
  {
   "cell_type": "markdown",
   "metadata": {},
   "source": [
    " # Check current working directory"
   ]
  },
  {
   "cell_type": "code",
   "execution_count": null,
   "metadata": {},
   "outputs": [],
   "source": [
    "!pwd\n",
    "print()\n",
    "!ls\n",
    "print()\n",
    "!cat cryspy.in"
   ]
  },
  {
   "cell_type": "markdown",
   "metadata": {},
   "source": [
    "# To ignore warnings\n",
    "if you want to ignore warnings, comment out the following lines"
   ]
  },
  {
   "cell_type": "code",
   "execution_count": null,
   "metadata": {},
   "outputs": [],
   "source": [
    "#import warnings\n",
    "#warnings.filterwarnings('ignore')"
   ]
  },
  {
   "cell_type": "markdown",
   "metadata": {},
   "source": [
    "# Import"
   ]
  },
  {
   "cell_type": "code",
   "execution_count": null,
   "metadata": {},
   "outputs": [],
   "source": [
    "# ---------- import\n",
    "from cryspy.interactive import action"
   ]
  },
  {
   "cell_type": "markdown",
   "metadata": {},
   "source": [
    "# Backup and clean"
   ]
  },
  {
   "cell_type": "markdown",
   "metadata": {},
   "source": [
    "Backup  \n",
    "[CrySPY Document > CrySPY > Features > Backup](https://tomoki-yamashita.github.io/CrySPY_doc/features/backup/index.html)"
   ]
  },
  {
   "cell_type": "code",
   "execution_count": null,
   "metadata": {},
   "outputs": [],
   "source": [
    "# ---------- backup\n",
    "#action.backup()"
   ]
  },
  {
   "cell_type": "markdown",
   "metadata": {},
   "source": [
    "Clean  \n",
    "[CrySPY Document > CrySPY > Features > Clean](https://tomoki-yamashita.github.io/CrySPY_doc/features/clean/index.html)\n",
    "\n",
    "After running action.clean(), make sure to restart the kernel.\n",
    "Otherwise, log files will no longer be output."
   ]
  },
  {
   "cell_type": "code",
   "execution_count": null,
   "metadata": {},
   "outputs": [],
   "source": [
    "# ---------- clean\n",
    "#action.clean(skip_yes=False)"
   ]
  },
  {
   "cell_type": "markdown",
   "metadata": {},
   "source": [
    "# Initialize CrySPY"
   ]
  },
  {
   "cell_type": "code",
   "execution_count": null,
   "metadata": {},
   "outputs": [],
   "source": [
    "# ---------- initial structure generation\n",
    "action.initialize()"
   ]
  },
  {
   "cell_type": "code",
   "execution_count": null,
   "metadata": {},
   "outputs": [],
   "source": [
    "!ls"
   ]
  },
  {
   "cell_type": "markdown",
   "metadata": {},
   "source": [
    "# Set calculator\n",
    "You can use ASE calculator"
   ]
  },
  {
   "cell_type": "code",
   "execution_count": null,
   "metadata": {},
   "outputs": [],
   "source": [
    "# ---------- EMT in ASE\n",
    "from ase.calculators.emt import EMT\n",
    "calculator = EMT()\n",
    "\n",
    "# ---------- CHGNet\n",
    "#from chgnet.model import CHGNetCalculator\n",
    "#calculator = CHGNetCalculator()"
   ]
  },
  {
   "cell_type": "markdown",
   "metadata": {},
   "source": [
    "# Restart CrySPY\n",
    "Structure optimization with ASE. After generating the structures, repeating the execution of this cell will progress the structure optimization.\n",
    "\n",
    " In Jupyter, SystemExit sometimes appears as an exception and may look like an error, but it is normal behavior."
   ]
  },
  {
   "cell_type": "code",
   "execution_count": null,
   "metadata": {},
   "outputs": [],
   "source": [
    "# ---------- structure optimization\n",
    "action.restart(\n",
    "    njob=20,    # njob=0: njob in cryspy.in will be used\n",
    "    calculator=calculator,\n",
    "    optimizer='BFGS',    # 'FIRE', 'BFGS' or 'LBFGS'\n",
    "    symmetry=True,       # default: True\n",
    "    fmax=0.01,           # default: 0.01 eV/Å\n",
    "    steps=2000,          # default: 2000\n",
    ")"
   ]
  },
  {
   "cell_type": "markdown",
   "metadata": {},
   "source": [
    "# Show results"
   ]
  },
  {
   "cell_type": "code",
   "execution_count": null,
   "metadata": {},
   "outputs": [],
   "source": [
    "# ---------- show results\n",
    "#!cat ./data/cryspy_rslt    # Order of structure optimization completion\n",
    "!cat ./data/cryspy_rslt_energy_asc    # show energy ascending order\n",
    "#!sed -n 2,4p ./data/cryspy_rslt    # show i--jth lines\n",
    "#!tail -n 5 ./data/cryspy_rslt    # show last 5 lines"
   ]
  },
  {
   "cell_type": "markdown",
   "metadata": {},
   "source": [
    "# Structure visualization"
   ]
  },
  {
   "cell_type": "code",
   "execution_count": null,
   "metadata": {},
   "outputs": [],
   "source": [
    "from ase.visualize import view\n",
    "atoms = action.get_atoms('opt', cid=0)    # 'init' or 'opt'\n",
    "view(atoms, viewer='ngl')    # viewer = 'ngl', 'ase', or 'x3d'"
   ]
  },
  {
   "cell_type": "markdown",
   "metadata": {},
   "source": [
    "# Energy plot for RS, EA\n",
    "Cannot be used for variable compositions (EA-vc)."
   ]
  },
  {
   "cell_type": "code",
   "execution_count": null,
   "metadata": {},
   "outputs": [],
   "source": [
    "fig, ax = action.plot_E(\n",
    "              title=None,\n",
    "              ymax=2.0,\n",
    "              ymin=-0.5,\n",
    "              markersize=12,\n",
    "              marker_edge_width=1.0,\n",
    "              marker_edge_color='black',\n",
    "              alpha=1.0,\n",
    "          )"
   ]
  },
  {
   "cell_type": "markdown",
   "metadata": {},
   "source": [
    "# Convex hull plot for EA-vc\n",
    "## Interactive plot using Plotly\n",
    "\n",
    "- cgen: Which generation’s data to plot up to. If None, data will be plotted up to the latest generation.\n",
    "- show_unstable: The maximum hull distance value to display on the plot\n",
    "- ternary_style  \n",
    "  - Binary system: ternary_style = '2d'\n",
    "  - Ternary system: ternary_style = '2d', '3d'\n",
    "  - Quaternary system: ternary_style = '3d'"
   ]
  },
  {
   "cell_type": "code",
   "execution_count": null,
   "metadata": {},
   "outputs": [],
   "source": [
    "action.interactive_plot_convex_hull(cgen=None, show_unstable=0.2, ternary_style='2d')"
   ]
  },
  {
   "cell_type": "markdown",
   "metadata": {},
   "source": [
    "## Binary system using matplotlib\n",
    "This is only for binary systems.\n",
    "\n",
    "- cgen: Which generation’s data to plot up to. If None, data will be plotted up to the latest generation.\n",
    "- show_max: The maximum formation energy to display on the plot\n",
    "- label_stable: Whether to display the labels (compositions) of stable structures\n",
    "- vmax: The maximum hull distance in the color bar\n",
    "- bottom_margin: Bottom margin of y-axis"
   ]
  },
  {
   "cell_type": "code",
   "execution_count": null,
   "metadata": {},
   "outputs": [],
   "source": [
    "fig, ax = action.plot_convex_hull_binary(\n",
    "              cgen=None,\n",
    "              show_max=0.2,\n",
    "              label_stable=True,\n",
    "              vmax=0.2,\n",
    "              bottom_margin=0.02,\n",
    "          )\n",
    "fig    # to show plot in jupyter"
   ]
  },
  {
   "cell_type": "markdown",
   "metadata": {},
   "source": [
    "## Ternary system using matplotlib\n",
    "This is only for ternary systems.\n",
    "\n",
    "- show_max: The maximum hull distance value to display on the plot\n",
    "- label_stable: Whether to display the labels (compositions) of stable structures\n",
    "- vmax: The maximum value of the color bar\n"
   ]
  },
  {
   "cell_type": "code",
   "execution_count": null,
   "metadata": {},
   "outputs": [],
   "source": [
    "fig, ax = action.plot_convex_hull_ternary(\n",
    "              cgen=None,\n",
    "              show_max=0.2,\n",
    "              label_stable=True,\n",
    "              vmax=0.2,\n",
    "          )\n",
    "fig    # to show plot in jupyter"
   ]
  },
  {
   "cell_type": "code",
   "execution_count": null,
   "metadata": {},
   "outputs": [],
   "source": []
  }
 ],
 "metadata": {
  "kernelspec": {
   "display_name": "base",
   "language": "python",
   "name": "python3"
  },
  "language_info": {
   "codemirror_mode": {
    "name": "ipython",
    "version": 3
   },
   "file_extension": ".py",
   "mimetype": "text/x-python",
   "name": "python",
   "nbconvert_exporter": "python",
   "pygments_lexer": "ipython3",
   "version": "3.10.12"
  },
  "orig_nbformat": 4
 },
 "nbformat": 4,
 "nbformat_minor": 2
}
